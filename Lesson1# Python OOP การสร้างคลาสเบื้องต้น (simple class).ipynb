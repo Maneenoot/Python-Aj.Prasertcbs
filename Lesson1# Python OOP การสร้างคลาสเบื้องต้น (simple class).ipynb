{
 "cells": [
  {
   "cell_type": "markdown",
   "metadata": {},
   "source": [
    "## Lesson1# Python OOP การสร้างคลาสเบื้องต้น (simple class)"
   ]
  },
  {
   "cell_type": "code",
   "execution_count": 3,
   "metadata": {},
   "outputs": [
    {
     "name": "stdout",
     "output_type": "stream",
     "text": [
      "Loris\n",
      "Manninger\n",
      "('Loris', 'Karius', 1)\n",
      "Loris\n",
      "{'fname': 'Loris', 'lname': 'Karius', 'number': 1}\n",
      "Karius\n"
     ]
    }
   ],
   "source": [
    "class Player:\n",
    "    def __init__(self): #dunder -> double underscores\n",
    "        self.fname = \"\"\n",
    "        self.lname = \"\"\n",
    "        self.number = \"\"\n",
    "        \n",
    "class Player2:\n",
    "    def __init__(self, fname, lname, number):\n",
    "        self.fname = fname\n",
    "        self.lname = lname\n",
    "        self.number = number\n",
    "        \n",
    "if __name__== '__main__':\n",
    "    p1 = Player()\n",
    "    p1.fname = \"Loris\"\n",
    "    p1.lname = \"Karius\"\n",
    "    p1.number = 1\n",
    "    \n",
    "    p2 = Player()\n",
    "    p2.fname = \"Alex\"\n",
    "    p2.lname = \"Manninger\"\n",
    "    p2.number = 13\n",
    "    \n",
    "    #นิยมแบบนี้ class\n",
    "    p1a = Player2(\"Loris\",\"Karius\",1) \n",
    "    p2a = Player2(\"Alex\",\"Manninger\",13)\n",
    "    print(p1a.fname)\n",
    "    print(p2.lname)\n",
    "    \n",
    "    #tuple\n",
    "    p1t = (\"Loris\",\"Karius\",1) \n",
    "    print(p1t)\n",
    "    print(p1t[0])\n",
    "    \n",
    "    #dict\n",
    "    p1d ={\"fname\":\"Loris\", \"lname\":\"Karius\", \"number\":1 }\n",
    "    print(p1d)\n",
    "    print(p1d[\"lname\"])\n",
    "    \n",
    "        "
   ]
  },
  {
   "cell_type": "code",
   "execution_count": 4,
   "metadata": {},
   "outputs": [
    {
     "name": "stdout",
     "output_type": "stream",
     "text": [
      "Loris\n",
      "Manninger\n"
     ]
    }
   ],
   "source": [
    "class Player2:\n",
    "    def __init__(self, fname, lname, number):\n",
    "        self.fname = fname\n",
    "        self.lname = lname\n",
    "        self.number = number\n",
    "        \n",
    "    #นิยมแบบนี้\n",
    "    p1a = Player2(\"Loris\",\"Karius\",1) \n",
    "    p2a = Player2(\"Alex\",\"Manninger\",13)\n",
    "    print(p1a.fname)\n",
    "    print(p2.lname)    \n",
    "        \n",
    "        "
   ]
  },
  {
   "cell_type": "code",
   "execution_count": null,
   "metadata": {},
   "outputs": [],
   "source": []
  }
 ],
 "metadata": {
  "kernelspec": {
   "display_name": "Python 3",
   "language": "python",
   "name": "python3"
  },
  "language_info": {
   "codemirror_mode": {
    "name": "ipython",
    "version": 3
   },
   "file_extension": ".py",
   "mimetype": "text/x-python",
   "name": "python",
   "nbconvert_exporter": "python",
   "pygments_lexer": "ipython3",
   "version": "3.7.4"
  }
 },
 "nbformat": 4,
 "nbformat_minor": 4
}
