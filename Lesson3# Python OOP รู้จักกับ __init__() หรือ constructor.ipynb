{
 "cells": [
  {
   "cell_type": "markdown",
   "metadata": {},
   "source": [
    "Lesson3# Python OOP รู้จักกับ __init__() หรือ constructor"
   ]
  },
  {
   "cell_type": "code",
   "execution_count": 12,
   "metadata": {},
   "outputs": [
    {
     "name": "stdout",
     "output_type": "stream",
     "text": [
      "\n",
      "Thailand\n"
     ]
    }
   ],
   "source": [
    "class Person:\n",
    "    def __init__(self):\n",
    "        self.fname = \"\"\n",
    "        self.lname = \"\"\n",
    "        self.country = \"Thailand\"\n",
    "        \n",
    "if __name__=='__main__':\n",
    "    p1 = Person() #create new instance\n",
    "    print(p1.fname) #ไม่โชวบรรทัดนี้เพราะเราใส่ค่าว่างไว้\n",
    "    print(p1.country)"
   ]
  },
  {
   "cell_type": "code",
   "execution_count": 3,
   "metadata": {},
   "outputs": [
    {
     "ename": "TypeError",
     "evalue": "__init__() missing 3 required positional arguments: 'fname', 'lname', and 'country'",
     "output_type": "error",
     "traceback": [
      "\u001b[1;31m---------------------------------------------------------------------------\u001b[0m",
      "\u001b[1;31mTypeError\u001b[0m                                 Traceback (most recent call last)",
      "\u001b[1;32m<ipython-input-3-1a203e63bc6a>\u001b[0m in \u001b[0;36m<module>\u001b[1;34m\u001b[0m\n\u001b[0;32m     11\u001b[0m \u001b[1;33m\u001b[0m\u001b[0m\n\u001b[0;32m     12\u001b[0m \u001b[1;32mif\u001b[0m \u001b[0m__name__\u001b[0m\u001b[1;33m==\u001b[0m\u001b[1;34m'__main__'\u001b[0m\u001b[1;33m:\u001b[0m\u001b[1;33m\u001b[0m\u001b[1;33m\u001b[0m\u001b[0m\n\u001b[1;32m---> 13\u001b[1;33m     \u001b[0mp1\u001b[0m \u001b[1;33m=\u001b[0m \u001b[0mPerson\u001b[0m\u001b[1;33m(\u001b[0m\u001b[1;33m)\u001b[0m \u001b[1;31m#create new instance\u001b[0m\u001b[1;33m\u001b[0m\u001b[1;33m\u001b[0m\u001b[0m\n\u001b[0m\u001b[0;32m     14\u001b[0m     \u001b[0mprint\u001b[0m\u001b[1;33m(\u001b[0m\u001b[0mp1\u001b[0m\u001b[1;33m.\u001b[0m\u001b[0mfname\u001b[0m\u001b[1;33m)\u001b[0m \u001b[1;31m#ไม่โชวบรรทัดนี้เพราะเราใส่ค่าว่างไว้\u001b[0m\u001b[1;33m\u001b[0m\u001b[1;33m\u001b[0m\u001b[0m\n\u001b[0;32m     15\u001b[0m     \u001b[0mprint\u001b[0m\u001b[1;33m(\u001b[0m\u001b[0mp1\u001b[0m\u001b[1;33m.\u001b[0m\u001b[0mcountry\u001b[0m\u001b[1;33m)\u001b[0m\u001b[1;33m\u001b[0m\u001b[1;33m\u001b[0m\u001b[0m\n",
      "\u001b[1;31mTypeError\u001b[0m: __init__() missing 3 required positional arguments: 'fname', 'lname', and 'country'"
     ]
    }
   ],
   "source": [
    "#def 2 อัน ในคลาสไม่ได้จะฟ้อง error \n",
    "class Person:\n",
    "    def __init__(self):\n",
    "        self.fname = \"\"\n",
    "        self.lname = \"\"\n",
    "        self.country = \"Thailand\"\n",
    "        \n",
    "    def __init__(self, fname, lname, country):\n",
    "        self.fname = \"fname\"\n",
    "        self.lname = \"lname\"\n",
    "        self.country = \"country\"    \n",
    "        \n",
    "if __name__=='__main__':\n",
    "    p1 = Person() #create new instance\n",
    "    print(p1.fname) #ไม่โชวบรรทัดนี้เพราะเราใส่ค่าว่างไว้\n",
    "    print(p1.country)\n",
    "    p2 = Person(\"Presert\", \"Kuna\", \"Thailand\")\n",
    "    print(p2)"
   ]
  },
  {
   "cell_type": "code",
   "execution_count": 23,
   "metadata": {},
   "outputs": [
    {
     "name": "stdout",
     "output_type": "stream",
     "text": [
      "None\n",
      "Thailand\n",
      "Peter Thailand\n",
      "fname Peter lname: Parker country: Thailand\n",
      "fname Taylor lname: Swift country: USA\n"
     ]
    }
   ],
   "source": [
    "class Person2:\n",
    "    def __init__(self, fname=None, lname=None, country=\"Thailand\"):\n",
    "        self.fname = fname\n",
    "        self.lname = lname\n",
    "        self.country = country\n",
    "        \n",
    "        \n",
    "    # ถ้าไม่ใส่มันจะแสดงผลแบบนี้ <__main__.Person2 object at 0x0000023F8C450D08>    \n",
    "    def __str__(self):\n",
    "        return \"fname {} lname: {} country: {}\".format(self.fname, self.lname, self.country)\n",
    "        \n",
    "if __name__== '__main__':\n",
    "    p1 = Person2() \n",
    "    print(p1.fname) \n",
    "    print(p1.country)\n",
    "    \n",
    "    p2 = Person2(fname=\"Peter\")\n",
    "    print(p2.fname, p2.country)\n",
    "    \n",
    "    p3 = Person2(\"Peter\", \"Parker\")\n",
    "    print(p3)\n",
    "    \n",
    "    p4 = Person2(lname=\"Swift\", fname=\"Taylor\",  country=\"USA\")\n",
    "    print(p4)\n",
    "    \n",
    "    "
   ]
  },
  {
   "cell_type": "code",
   "execution_count": null,
   "metadata": {},
   "outputs": [],
   "source": []
  },
  {
   "cell_type": "code",
   "execution_count": null,
   "metadata": {},
   "outputs": [],
   "source": []
  }
 ],
 "metadata": {
  "kernelspec": {
   "display_name": "Python 3",
   "language": "python",
   "name": "python3"
  },
  "language_info": {
   "codemirror_mode": {
    "name": "ipython",
    "version": 3
   },
   "file_extension": ".py",
   "mimetype": "text/x-python",
   "name": "python",
   "nbconvert_exporter": "python",
   "pygments_lexer": "ipython3",
   "version": "3.7.4"
  }
 },
 "nbformat": 4,
 "nbformat_minor": 4
}
