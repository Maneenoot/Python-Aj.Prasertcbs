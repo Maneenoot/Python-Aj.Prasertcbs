{
 "cells": [
  {
   "cell_type": "markdown",
   "metadata": {},
   "source": [
    "Lesson2# Python OOP เปรียบเทียบการเก็บข้อมูลด้วย tuple, dict และ class instance"
   ]
  },
  {
   "cell_type": "code",
   "execution_count": 1,
   "metadata": {},
   "outputs": [
    {
     "name": "stdout",
     "output_type": "stream",
     "text": [
      "('Joe', 'Gomez', 12)\n",
      "Gomez\n"
     ]
    }
   ],
   "source": [
    "#อ้างถึงด้วย index\n",
    "def demo_tuple():\n",
    "    p12 = \"Joe\",\"Gomez\",12\n",
    "    print(p12)\n",
    "    print(p12[1])\n",
    "    \n",
    "if __name__== '__main__':\n",
    "    demo_tuple()"
   ]
  },
  {
   "cell_type": "code",
   "execution_count": 2,
   "metadata": {},
   "outputs": [
    {
     "name": "stdout",
     "output_type": "stream",
     "text": [
      "{'fname': 'Joe', 'lname': 'Gomez', 'number': 12}\n",
      "Gomez\n"
     ]
    }
   ],
   "source": [
    "#อ้างถึงด้วย key\n",
    "def demo_dict():\n",
    "    p12 = {\"fname\":\"Joe\",\"lname\":\"Gomez\",\"number\":12}\n",
    "    print(p12)\n",
    "    print(p12[\"lname\"])\n",
    "    \n",
    "if __name__== '__main__':\n",
    "    demo_dict()"
   ]
  },
  {
   "cell_type": "code",
   "execution_count": 3,
   "metadata": {},
   "outputs": [
    {
     "name": "stdout",
     "output_type": "stream",
     "text": [
      "Gomez\n"
     ]
    }
   ],
   "source": [
    "#อ้างถึงด้วย dot.attribute\n",
    "class Player:\n",
    "    pass\n",
    "\n",
    "def demo_simple_player_class():\n",
    "    p12 = Player() #p12 ->instance\n",
    "    p12.fname = \"Joe\" #attribute/property\n",
    "    p12.lname = \"Gomez\"\n",
    "    p12.number = \"12\"\n",
    "    print(p12.lname)\n",
    "    \n",
    "if __name__== '__main__':\n",
    "    demo_simple_player_class()"
   ]
  },
  {
   "cell_type": "code",
   "execution_count": 5,
   "metadata": {},
   "outputs": [
    {
     "name": "stdout",
     "output_type": "stream",
     "text": [
      "Gomez\n"
     ]
    }
   ],
   "source": [
    "#คลาสที่ดี\n",
    "class Player2:\n",
    "    def __init__(self):\n",
    "        self.fname = \"\"\n",
    "        self.lname = \"\"\n",
    "        self.number = 0\n",
    "\n",
    "def demo_simple_player2_class():\n",
    "    p12 = Player2() #p12 ->instance\n",
    "    p12.fname = \"Joe\" #attribute/property\n",
    "    p12.lname = \"Gomez\"\n",
    "    p12.number = \"12\"\n",
    "    print(p12.lname)\n",
    "    \n",
    "if __name__== '__main__':\n",
    "    demo_simple_player2_class()    \n",
    "        "
   ]
  },
  {
   "cell_type": "code",
   "execution_count": 7,
   "metadata": {},
   "outputs": [
    {
     "name": "stdout",
     "output_type": "stream",
     "text": [
      "Gomez\n"
     ]
    }
   ],
   "source": [
    "class Player3:\n",
    "    def __init__(self, fname, lname, number):\n",
    "        self.fname = fname\n",
    "        self.lname = lname\n",
    "        self.number = number\n",
    "        \n",
    "def demo_simple_player3_class():\n",
    "    p12 = Player3(\"Joe\",\"Gomez\",12) \n",
    "    print(p12.lname)\n",
    "    \n",
    "if __name__== '__main__':\n",
    "    demo_simple_player3_class()     "
   ]
  },
  {
   "cell_type": "code",
   "execution_count": null,
   "metadata": {},
   "outputs": [],
   "source": []
  }
 ],
 "metadata": {
  "kernelspec": {
   "display_name": "Python 3",
   "language": "python",
   "name": "python3"
  },
  "language_info": {
   "codemirror_mode": {
    "name": "ipython",
    "version": 3
   },
   "file_extension": ".py",
   "mimetype": "text/x-python",
   "name": "python",
   "nbconvert_exporter": "python",
   "pygments_lexer": "ipython3",
   "version": "3.7.4"
  }
 },
 "nbformat": 4,
 "nbformat_minor": 4
}
