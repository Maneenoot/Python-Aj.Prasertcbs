{
 "cells": [
  {
   "cell_type": "markdown",
   "metadata": {},
   "source": [
    "Lesson6# Python OOP แปลงโค้ดที่เขียนแบบ procedural ให้เป็น class"
   ]
  },
  {
   "cell_type": "code",
   "execution_count": 3,
   "metadata": {},
   "outputs": [
    {
     "name": "stdout",
     "output_type": "stream",
     "text": [
      "24.221453287197235\n",
      "ตามกว่าเกฑ์\n"
     ]
    }
   ],
   "source": [
    "# bmi_basic.py\n",
    "def bmi(w_kg, h_cm) :\n",
    "    return w_kg/(h_cm/100)**2\n",
    "\n",
    "def category(w_kg, h_cm):\n",
    "    diag =\"\"\n",
    "    bmi_value = bmi(w_kg, h_cm)\n",
    "    if bmi_value <18.5:\n",
    "        diag =\"ต่ำกว่าเกฑ์\"\n",
    "    elif 18.5 <=bmi_value  <= 25: \n",
    "        diag =\"ตามกว่าเกฑ์\"\n",
    "    elif 25 <=bmi_value  <= 30:\n",
    "        diag =\"เกินกว่าเกฑ์\"\n",
    "    elif bmi_value >30:\n",
    "        diag =\"อ้วน\"\n",
    "    return diag\n",
    "\n",
    "if __name__== '__main__':\n",
    "    w = 70\n",
    "    h = 170\n",
    "    print(bmi(w,h))\n",
    "    print(category(w,h))\n",
    "        "
   ]
  },
  {
   "cell_type": "code",
   "execution_count": 4,
   "metadata": {},
   "outputs": [
    {
     "name": "stdout",
     "output_type": "stream",
     "text": [
      "70.0\n",
      "อ้วน\n"
     ]
    }
   ],
   "source": [
    "# bmi.py ไฟล์แปลงเป็น class\n",
    "class Bmi:\n",
    "    def __init__(self, w_kg , h_cm):\n",
    "        self.w_kg = w_kg\n",
    "        self.h_cm = h_cm\n",
    "        \n",
    "    def bmi(self):\n",
    "        return self.w_kg / (self.h_cm / 100)**2\n",
    "    \n",
    "    def category(self):\n",
    "        diag =\"\"\n",
    "        if self.bmi() <18.5:\n",
    "            diag =\"ต่ำกว่าเกฑ์\"\n",
    "        elif 18.5 <=self.bmi()  <= 25: \n",
    "            diag =\"ตามกว่าเกฑ์\"\n",
    "        elif 25 <=self.bmi()  <= 30:\n",
    "            diag =\"เกินกว่าเกฑ์\"\n",
    "        elif self.bmi() >30:\n",
    "            diag =\"อ้วน\"\n",
    "        return diag\n",
    "    \n",
    "if __name__== '__main__':\n",
    "    a = Bmi(70, 100)\n",
    "    print(a.bmi())\n",
    "    print(a.category())\n",
    "        \n",
    "        \n",
    "    "
   ]
  },
  {
   "cell_type": "code",
   "execution_count": null,
   "metadata": {},
   "outputs": [],
   "source": []
  }
 ],
 "metadata": {
  "kernelspec": {
   "display_name": "Python 3",
   "language": "python",
   "name": "python3"
  },
  "language_info": {
   "codemirror_mode": {
    "name": "ipython",
    "version": 3
   },
   "file_extension": ".py",
   "mimetype": "text/x-python",
   "name": "python",
   "nbconvert_exporter": "python",
   "pygments_lexer": "ipython3",
   "version": "3.7.4"
  }
 },
 "nbformat": 4,
 "nbformat_minor": 4
}
