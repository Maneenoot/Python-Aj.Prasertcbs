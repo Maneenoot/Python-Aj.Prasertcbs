{
 "cells": [
  {
   "cell_type": "markdown",
   "metadata": {},
   "source": [
    "Lesson5# Python OOP รู้จักกับ self"
   ]
  },
  {
   "cell_type": "code",
   "execution_count": 7,
   "metadata": {},
   "outputs": [
    {
     "name": "stdout",
     "output_type": "stream",
     "text": [
      "Thailand\n",
      "10\n",
      "10\n",
      "3\n",
      "3\n",
      "10\n"
     ]
    }
   ],
   "source": [
    "#self\n",
    "\n",
    "class Medal:\n",
    "    def __init__(self, country, gold, silver, bronze):\n",
    "        self.country = country\n",
    "        self.gold = gold\n",
    "        self.silver = silver\n",
    "        self.bronze = bronze\n",
    "        \n",
    "    def total(self): #instance method\n",
    "        return self.gold+self.silver+self.bronze\n",
    "    \n",
    "    def dummy(self, a, b):\n",
    "        return a + b\n",
    "        \n",
    "        \n",
    "if __name__=='__main__':\n",
    "    th = Medal(\"Thailand\", 5, 3, 2)\n",
    "    print(th.country)\n",
    "    print(th.total())\n",
    "    print(Medal.total(th))\n",
    "    print(th.dummy(1,2))\n",
    "    print(Medal.dummy(th,1,2))    #ปริ้นแบบยาว\n",
    "    th.rank = 10\n",
    "    print(th.rank)\n",
    "        "
   ]
  },
  {
   "cell_type": "code",
   "execution_count": null,
   "metadata": {},
   "outputs": [],
   "source": []
  }
 ],
 "metadata": {
  "kernelspec": {
   "display_name": "Python 3",
   "language": "python",
   "name": "python3"
  },
  "language_info": {
   "codemirror_mode": {
    "name": "ipython",
    "version": 3
   },
   "file_extension": ".py",
   "mimetype": "text/x-python",
   "name": "python",
   "nbconvert_exporter": "python",
   "pygments_lexer": "ipython3",
   "version": "3.7.4"
  }
 },
 "nbformat": 4,
 "nbformat_minor": 4
}
